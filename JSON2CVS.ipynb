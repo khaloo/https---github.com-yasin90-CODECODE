{
 "cells": [
  {
   "cell_type": "markdown",
   "metadata": {},
   "source": [
    "# In The Name Of God\n",
    "\n",
    "## JSON to CSV\n",
    "\n",
    "At this time we want to program a specific and simple python program to convert JSON file 2 CSV. You first must know what are your **json** attributes, for this reason you can go “http://codebeautify.org/” and then click **JSON VIEWER** or click (http://codebeautify.org/jsonviewer) then you can write one of your json\n",
    "line into codebeutify JSON input, and then see what are your attributes on right side(Result)then write your columns in bellow line. After\n",
    ", that replace it in my code in specific place...\n",
    "\n",
    "columns=['reviewerID','asin','reviewerName','helpful','reviewText','overall','summary','unixReviewTime', 'reviewTime']\n",
    "\n",
    "<hr>\n",
    "If you have any question, you can contact with me : (**mkhalooei@gmail.com**)\n",
    "\n",
    "have nice time... :)"
   ]
  },
  {
   "cell_type": "code",
   "execution_count": 37,
   "metadata": {
    "collapsed": false
   },
   "outputs": [],
   "source": [
    "import json\n",
    "import pandas as pd\n",
    "\n",
    "#import os\n",
    "#os.chdir('usr/python-tutorial/') # my current directory\n",
    "\n",
    "data = []\n",
    "with open('Patio_Lawn_and_Garden_5.json') as f:   #my json file name is Patio_Lawn_and_Garden_5.json\n",
    "    for line in f:\n",
    "        data.append(json.loads(line))\n",
    "type(data)\n",
    "len(data)\n",
    "\n",
    "\n",
    "df = pd.DataFrame(data, columns=['reviewerID','asin','reviewerName','helpful','reviewText','overall','summary','unixReviewTime', 'reviewTime']) #your json columns name\n",
    "df.to_csv('list.csv', index=False) #your output address\n"
   ]
  },
  {
   "cell_type": "markdown",
   "metadata": {},
   "source": [
    "### Published by : Mohammad khalooei (july 2016)"
   ]
  }
 ],
 "metadata": {
  "kernelspec": {
   "display_name": "Python 2",
   "language": "python",
   "name": "python2"
  },
  "language_info": {
   "codemirror_mode": {
    "name": "ipython",
    "version": 2
   },
   "file_extension": ".py",
   "mimetype": "text/x-python",
   "name": "python",
   "nbconvert_exporter": "python",
   "pygments_lexer": "ipython2",
   "version": "2.7.12"
  }
 },
 "nbformat": 4,
 "nbformat_minor": 0
}
