{
 "cells": [
  {
   "cell_type": "markdown",
   "metadata": {},
   "source": [
    "# In The Name of Allah\n",
    "\n",
    "social Network mining .."
   ]
  },
  {
   "cell_type": "code",
   "execution_count": 20,
   "metadata": {
    "collapsed": false,
    "scrolled": true
   },
   "outputs": [
    {
     "data": {
      "text/plain": [
       "0            فوق ديپلم\n",
       "1               ليسانس\n",
       "2               ليسانس\n",
       "3               ليسانس\n",
       "4            فوق ديپلم\n",
       "5               ليسانس\n",
       "6       ديپلم دبيرستان\n",
       "7               ليسانس\n",
       "8            فوق ديپلم\n",
       "9               ليسانس\n",
       "10           زير ديپلم\n",
       "11      ديپلم دبيرستان\n",
       "12           فوق ديپلم\n",
       "13              ليسانس\n",
       "14              ليسانس\n",
       "15              ليسانس\n",
       "16                 NaN\n",
       "17      دکتري و بالاتر\n",
       "18          فوق ليسانس\n",
       "19          فوق ليسانس\n",
       "20              ليسانس\n",
       "21         يک سال کالج\n",
       "22           زير ديپلم\n",
       "23           فوق ديپلم\n",
       "24              ليسانس\n",
       "25          فوق ليسانس\n",
       "26                 NaN\n",
       "27              ليسانس\n",
       "28          فوق ليسانس\n",
       "29              ليسانس\n",
       "             ...      \n",
       "2970               NaN\n",
       "2971         فوق ديپلم\n",
       "2972            ليسانس\n",
       "2973               NaN\n",
       "2974            ليسانس\n",
       "2975    ديپلم دبيرستان\n",
       "2976            ليسانس\n",
       "2977            ليسانس\n",
       "2978    ديپلم دبيرستان\n",
       "2979            ليسانس\n",
       "2980         زير ديپلم\n",
       "2981               NaN\n",
       "2982            ليسانس\n",
       "2983    ديپلم دبيرستان\n",
       "2984            ليسانس\n",
       "2985       يک سال کالج\n",
       "2986            ليسانس\n",
       "2987    ديپلم دبيرستان\n",
       "2988    دکتري و بالاتر\n",
       "2989    ديپلم دبيرستان\n",
       "2990    دکتري و بالاتر\n",
       "2991    ديپلم دبيرستان\n",
       "2992        فوق ليسانس\n",
       "2993    ديپلم دبيرستان\n",
       "2994    ديپلم دبيرستان\n",
       "2995            ليسانس\n",
       "2996         زير ديپلم\n",
       "2997         فوق ديپلم\n",
       "2998            ليسانس\n",
       "2999    ديپلم دبيرستان\n",
       "Name: City, dtype: object"
      ]
     },
     "execution_count": 20,
     "metadata": {},
     "output_type": "execute_result"
    }
   ],
   "source": [
    "import pandas as pd \n",
    "\n",
    "#read excel file\n",
    "data= pd.read_excel('C:/test/datapart0.xlsx')\n",
    "data.head()\n",
    "\n",
    "import matplotlib as plt\n",
    "%matplotlib inline\n",
    "\n",
    "#plt.plot(data['ID'],)\n",
    "data['City'].\n"
   ]
  }
 ],
 "metadata": {
  "kernelspec": {
   "display_name": "Python 2",
   "language": "python",
   "name": "python2"
  },
  "language_info": {
   "codemirror_mode": {
    "name": "ipython",
    "version": 2
   },
   "file_extension": ".py",
   "mimetype": "text/x-python",
   "name": "python",
   "nbconvert_exporter": "python",
   "pygments_lexer": "ipython2",
   "version": "2.7.12"
  }
 },
 "nbformat": 4,
 "nbformat_minor": 0
}
