{
 "cells": [
  {
   "cell_type": "markdown",
   "metadata": {},
   "source": [
    "# Cross Validation\n",
    "\n",
    "- Train/Test Split : it provide *high variance* estimate since changing which observation to be in the testing set \n",
    "- K-fold"
   ]
  },
  {
   "cell_type": "code",
   "execution_count": 7,
   "metadata": {
    "collapsed": false
   },
   "outputs": [
    {
     "name": "stdout",
     "output_type": "stream",
     "text": [
      "1.0\n"
     ]
    }
   ],
   "source": [
    "from sklearn.datasets import load_iris\n",
    "from sklearn.cross_validation import train_test_split\n",
    "from sklearn.neighbors import KNeighborsClassifier\n",
    "from sklearn import metrics\n",
    "\n",
    "\n",
    "iris=load_iris()\n",
    "\n",
    "x=iris.data   # data\n",
    "y=iris.target # reponse target\n",
    "\n",
    "x_train,x_test,y_train,y_test = train_test_split(x,y,random_state=2)\n",
    "\n",
    "knn = KNeighborsClassifier(n_neighbors=5)\n",
    "knn.fit(x_train,y_train)\n",
    "\n",
    "y_pred=knn.predict(x_test)\n",
    "\n",
    "print metrics.accuracy_score(y_test,y_pred)"
   ]
  },
  {
   "cell_type": "markdown",
   "metadata": {},
   "source": [
    "# Change Train/Test or cross-validation\n",
    "\n",
    "## steps for K-fold cross-validation\n",
    "\n",
    "1. Split dataset into K *equal* partition(or \"folds\")\n",
    "2. Use fold1 as the testing set and the uion of other folds as training set.\n",
    "3. Calculate *testing accurary*\n",
    "4. Repeat steps 2 and 3 Ktimes -> using diffrent folds as the testing set each time\n",
    "5. Use the *average test accuracy*as the estimate of out-of-sample accuracy\n",
    "\n",
    "\n",
    "\n",
    "\n",
    "****devide observation as columns!\n",
    "\n",
    "our dataset contain **25 observation** (0 upto 24)\n"
   ]
  },
  {
   "cell_type": "code",
   "execution_count": 4,
   "metadata": {
    "collapsed": false
   },
   "outputs": [
    {
     "name": "stdout",
     "output_type": "stream",
     "text": [
      "Iteration                   Training set observation                    Testing set observation\n",
      "    1     [ 5  6  7  8  9 10 11 12 13 14 15 16 17 18 19 20 21 22 23 24]        [0 1 2 3 4]       \n",
      "    2     [ 0  1  2  3  4 10 11 12 13 14 15 16 17 18 19 20 21 22 23 24]        [5 6 7 8 9]       \n",
      "    3     [ 0  1  2  3  4  5  6  7  8  9 15 16 17 18 19 20 21 22 23 24]     [10 11 12 13 14]     \n",
      "    4     [ 0  1  2  3  4  5  6  7  8  9 10 11 12 13 14 20 21 22 23 24]     [15 16 17 18 19]     \n",
      "    5     [ 0  1  2  3  4  5  6  7  8  9 10 11 12 13 14 15 16 17 18 19]     [20 21 22 23 24]     \n"
     ]
    }
   ],
   "source": [
    "from sklearn.cross_validation import KFold\n",
    "kf = KFold(25,n_folds=5,shuffle=False)\n",
    "\n",
    "print '{} {:^61} {}'.format('Iteration','Training set observation','Testing set observation')\n",
    "for iteration,data in enumerate(kf,start=1):\n",
    "    print '{:^9} {} {:^25}'.format(iteration,data[0],data[1])"
   ]
  },
  {
   "cell_type": "markdown",
   "metadata": {},
   "source": [
    "every observation is show once in test or train"
   ]
  },
  {
   "cell_type": "markdown",
   "metadata": {},
   "source": [
    "# compare cross-validation to train/test split\n",
    "\n",
    "* Adavantages of **cross-validation**\n",
    "- more accurate estimate\n",
    "- more efficient use of data\n",
    "\n",
    "* Adavantages of **train/test split**\n",
    "- Run k times faster than k-fold cross-validation\n",
    "- simpler to examine\n",
    "\n"
   ]
  },
  {
   "cell_type": "markdown",
   "metadata": {},
   "source": [
    "## Cross-validation recommendation\n",
    "\n",
    "- K can be any number => k=10 is generally recommended.\n",
    "- for classification problem => **startified sampling** is recommended\n",
    "    - each response class should be represented with ** equal **proportion in each k fold\n",
    "    - scikit-learn's cross_val_score functuon does this by default"
   ]
  },
  {
   "cell_type": "code",
   "execution_count": 15,
   "metadata": {
    "collapsed": false
   },
   "outputs": [
    {
     "name": "stdout",
     "output_type": "stream",
     "text": [
      "[ 1.          0.93333333  1.          1.          0.86666667  0.93333333\n",
      "  0.93333333  1.          1.          1.        ]\n",
      "<type 'numpy.ndarray'>\n"
     ]
    }
   ],
   "source": [
    "from sklearn.cross_validation import cross_val_score\n",
    "from sklearn.neighbors import KNeighborsClassifier\n",
    "# 10-fold cross-validation with k=5 for KNN\n",
    "knn = KNeighborsClassifier()\n",
    "\n",
    "# cv=10 => 10-fold cross-validation\n",
    "# scoring => accuracy  => classification accuracy\n",
    "# in evaluation scikit learn document there is more cross-validation\n",
    "scores = cross_val_score(knn,x,y,cv=10,scoring='accuracy')\n",
    "\n",
    "print scores # it is accuracy\n",
    "\n",
    "print type(scores) # numpy.ndarray"
   ]
  },
  {
   "cell_type": "code",
   "execution_count": 17,
   "metadata": {
    "collapsed": false
   },
   "outputs": [
    {
     "name": "stdout",
     "output_type": "stream",
     "text": [
      "0.966666666667\n"
     ]
    }
   ],
   "source": [
    "# use average accuracy to estimate beter\n",
    "print scores.mean()"
   ]
  },
  {
   "cell_type": "code",
   "execution_count": 28,
   "metadata": {
    "collapsed": false
   },
   "outputs": [
    {
     "data": {
      "text/plain": [
       "<matplotlib.text.Text at 0x9a4f828>"
      ]
     },
     "execution_count": 28,
     "metadata": {},
     "output_type": "execute_result"
    },
    {
     "data": {
      "image/png": "[encoded data removed]",
      "text/plain": [
       "<matplotlib.figure.Figure at 0x8d2f908>"
      ]
     },
     "metadata": {},
     "output_type": "display_data"
    }
   ],
   "source": [
    "# optimal value for K in KNN\n",
    "\n",
    "k_range = range(1,31)\n",
    "k_scores=[]\n",
    "\n",
    "for k in k_range:\n",
    "    knn = KNeighborsClassifier(n_neighbors=k)\n",
    "    scores=cross_val_score(knn,x,y,cv=10,scoring='accuracy')\n",
    "    k_scores.append(scores.mean())\n",
    "\n",
    "#print k_scores\n",
    "\n",
    "import matplotlib.pyplot as plt\n",
    "%matplotlib inline\n",
    "plt.plot(k_range,k_scores)\n",
    "plt.xlabel('value k for KNN')\n",
    "plt.ylabel('cross validation accuracy')"
   ]
  },
  {
   "cell_type": "markdown",
   "metadata": {},
   "source": [
    " we determine that knn=20 is better accuracy"
   ]
  },
  {
   "cell_type": "markdown",
   "metadata": {},
   "source": [
    "<hr>\n",
    "<hr>\n",
    "# cross validation ex.\n",
    "## model selection\n",
    "\n",
    "\n",
    "**Goal** : Compare best KNN with  logistic regression in IRIS datase\n"
   ]
  },
  {
   "cell_type": "code",
   "execution_count": 30,
   "metadata": {
    "collapsed": false
   },
   "outputs": [
    {
     "name": "stdout",
     "output_type": "stream",
     "text": [
      "0.98\n"
     ]
    }
   ],
   "source": [
    "knn = KNeighborsClassifier(n_neighbors=20)\n",
    "print cross_val_score(knn,x,y,cv=10,scoring='accuracy').mean()\n"
   ]
  },
  {
   "cell_type": "code",
   "execution_count": 31,
   "metadata": {
    "collapsed": false
   },
   "outputs": [
    {
     "name": "stdout",
     "output_type": "stream",
     "text": [
      "0.953333333333\n"
     ]
    }
   ],
   "source": [
    "from sklearn.linear_model import LogisticRegression\n",
    "logreg=LogisticRegression()\n",
    "print cross_val_score(logreg,x,y,cv=10,scoring='accuracy').mean()"
   ]
  },
  {
   "cell_type": "markdown",
   "metadata": {},
   "source": [
    "we conclude KNN is better choice for this perticular task"
   ]
  },
  {
   "cell_type": "markdown",
   "metadata": {},
   "source": [
    " # feature selection\n",
    " \n",
    " **Goal** Select wheter the Newspaper feature should be included in the linear regression model\n",
    " "
   ]
  },
  {
   "cell_type": "code",
   "execution_count": 34,
   "metadata": {
    "collapsed": false
   },
   "outputs": [],
   "source": [
    "import pandas as pd\n",
    "import numpy as np\n",
    "from sklearn.linear_model import LinearRegression\n",
    "\n"
   ]
  },
  {
   "cell_type": "code",
   "execution_count": 40,
   "metadata": {
    "collapsed": false
   },
   "outputs": [],
   "source": [
    "data = pd.read_csv('E:/A_Project/python-tutorial/Advertising.csv')\n",
    "\n",
    "feature_cols=['TV','Radio','Newspaper']\n",
    "\n",
    "x=data[feature_cols]\n",
    "y=data.Sales"
   ]
  },
  {
   "cell_type": "code",
   "execution_count": 47,
   "metadata": {
    "collapsed": false
   },
   "outputs": [
    {
     "name": "stdout",
     "output_type": "stream",
     "text": [
      "[ 3.56038438  3.29767522  2.08943356  2.82474283  1.3027754   1.74163618\n",
      "  8.17338214  2.11409746  3.04273109  2.45281793]\n"
     ]
    }
   ],
   "source": [
    "lm =LinearRegression()\n",
    "scores=cross_val_score(lm,x,y,cv=10,scoring='mean_squared_error')\n",
    "#print scores\n",
    "\n",
    "#min square error => u want to minimize => sign flip it\n",
    "mse_scores=-scores\n",
    "print mse_scores"
   ]
  },
  {
   "cell_type": "code",
   "execution_count": 49,
   "metadata": {
    "collapsed": false
   },
   "outputs": [
    {
     "name": "stdout",
     "output_type": "stream",
     "text": [
      "[ 1.88689808  1.81595022  1.44548731  1.68069713  1.14139187  1.31971064\n",
      "  2.85891276  1.45399362  1.7443426   1.56614748]\n"
     ]
    }
   ],
   "source": [
    "rmse_scores=np.sqrt(mse_scores)\n",
    "print rmse_scores"
   ]
  },
  {
   "cell_type": "code",
   "execution_count": 50,
   "metadata": {
    "collapsed": false
   },
   "outputs": [
    {
     "name": "stdout",
     "output_type": "stream",
     "text": [
      "1.69135317081\n"
     ]
    }
   ],
   "source": [
    "print rmse_scores.mean()"
   ]
  },
  {
   "cell_type": "markdown",
   "metadata": {},
   "source": [
    "### compare Newspaper feature"
   ]
  },
  {
   "cell_type": "code",
   "execution_count": 56,
   "metadata": {
    "collapsed": false
   },
   "outputs": [
    {
     "name": "stdout",
     "output_type": "stream",
     "text": [
      "1.67967484191\n"
     ]
    }
   ],
   "source": [
    "feature_cols=['TV','Radio']\n",
    "\n",
    "x=data[feature_cols]\n",
    "\n",
    "\n",
    "print np.sqrt(- cross_val_score(lm,x,y,cv=10,scoring='mean_squared_error')).mean()"
   ]
  },
  {
   "cell_type": "markdown",
   "metadata": {},
   "source": [
    "included newspaper => 1.69\n",
    "exclude  newspaper => 1.67\n",
    "\n",
    "\n",
    "minimum is good => ** excluded newspaper**\n"
   ]
  },
  {
   "cell_type": "markdown",
   "metadata": {},
   "source": [
    "## - repeat cross validation\n",
    "    - reapeat multiple time => diffrent random split in k-fold => average\n",
    "    - more reliable estimate of out-of-sample performance by reducing the variance associated with single tiral \n",
    "    \n",
    "## - Creating a hold-out set\n",
    "    - \"Hold-out\" a portion of data **before** begining the model building process\n",
    "    - locate the best model using cross-validaton on remain data => then test using hold-out set \n",
    "    - more reliable estimate of out-of-sample performance since hold-out set is** truly out-of sample**\n",
    "\n",
    "## - Feature enginneering and selection within cross-validation iteration\n",
    "    - normally, feature engineering and selection occurs **before** cross-validation\n",
    "    - insted, perform all feature enginneering and selection **within each cross-validation iteration\n",
    "    - more reliable of out-of-sample performance since it **better mimics** the application of the model to out-of-sample data"
   ]
  },
  {
   "cell_type": "markdown",
   "metadata": {},
   "source": [
    "published by ** Mohammad khalooei** 11:33AM 24July"
   ]
  }
 ],
 "metadata": {
  "kernelspec": {
   "display_name": "Python 2",
   "language": "python",
   "name": "python2"
  },
  "language_info": {
   "codemirror_mode": {
    "name": "ipython",
    "version": 2
   },
   "file_extension": ".py",
   "mimetype": "text/x-python",
   "name": "python",
   "nbconvert_exporter": "python",
   "pygments_lexer": "ipython2",
   "version": "2.7.12"
  }
 },
 "nbformat": 4,
 "nbformat_minor": 0
}
